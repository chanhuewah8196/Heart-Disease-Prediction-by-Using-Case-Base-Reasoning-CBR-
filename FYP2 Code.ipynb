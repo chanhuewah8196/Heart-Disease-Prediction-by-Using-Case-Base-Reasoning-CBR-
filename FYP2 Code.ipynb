{
 "cells": [
  {
   "cell_type": "markdown",
   "id": "c4da820e",
   "metadata": {},
   "source": [
    "    NAME      : CHAN HUE WAH\n",
    "\n",
    "    MATRIX ID : CA19059\n",
    "\n",
    "    SEMESTER  : SEMESTER I 2022/2023\n",
    "\n",
    "    COURSE    : BCC3024 UNDERGRADUATE PROJECT II\n",
    "\n",
    "    PROJECT   : FINAL YEAR PROJECT\n",
    "\n",
    "    DATASET   : HEART DISEASE"
   ]
  },
  {
   "cell_type": "code",
   "execution_count": 1,
   "id": "996207db",
   "metadata": {
    "executionInfo": {
     "elapsed": 486,
     "status": "ok",
     "timestamp": 1669827274128,
     "user": {
      "displayName": "Denny Chan",
      "userId": "02614145806304977587"
     },
     "user_tz": -480
    },
    "id": "996207db"
   },
   "outputs": [],
   "source": [
    "import pandas as pd\n",
    "import numpy as np\n",
    "import matplotlib.pyplot as plt\n",
    "import seaborn as sns"
   ]
  },
  {
   "cell_type": "markdown",
   "id": "8e12a917",
   "metadata": {},
   "source": [
    "1.0) IMPORT HEART DISEASE DATASET / DATA COLLECTION"
   ]
  },
  {
   "cell_type": "code",
   "execution_count": 2,
   "id": "a7a6fded",
   "metadata": {
    "colab": {
     "base_uri": "https://localhost:8080/",
     "height": 424
    },
    "executionInfo": {
     "elapsed": 10,
     "status": "ok",
     "timestamp": 1669827274129,
     "user": {
      "displayName": "Denny Chan",
      "userId": "02614145806304977587"
     },
     "user_tz": -480
    },
    "id": "a7a6fded",
    "outputId": "bc41d6e5-16ce-4631-8f8b-bf5becbca8cf"
   },
   "outputs": [
    {
     "data": {
      "text/html": [
       "<div>\n",
       "<style scoped>\n",
       "    .dataframe tbody tr th:only-of-type {\n",
       "        vertical-align: middle;\n",
       "    }\n",
       "\n",
       "    .dataframe tbody tr th {\n",
       "        vertical-align: top;\n",
       "    }\n",
       "\n",
       "    .dataframe thead th {\n",
       "        text-align: right;\n",
       "    }\n",
       "</style>\n",
       "<table border=\"1\" class=\"dataframe\">\n",
       "  <thead>\n",
       "    <tr style=\"text-align: right;\">\n",
       "      <th></th>\n",
       "      <th>age</th>\n",
       "      <th>sex</th>\n",
       "      <th>cp</th>\n",
       "      <th>trestbps</th>\n",
       "      <th>chol</th>\n",
       "      <th>fbs</th>\n",
       "      <th>restecg</th>\n",
       "      <th>thalach</th>\n",
       "      <th>exang</th>\n",
       "      <th>oldpeak</th>\n",
       "      <th>slope</th>\n",
       "      <th>ca</th>\n",
       "      <th>thal</th>\n",
       "      <th>target</th>\n",
       "    </tr>\n",
       "  </thead>\n",
       "  <tbody>\n",
       "    <tr>\n",
       "      <th>0</th>\n",
       "      <td>52</td>\n",
       "      <td>1</td>\n",
       "      <td>0</td>\n",
       "      <td>125</td>\n",
       "      <td>212</td>\n",
       "      <td>0</td>\n",
       "      <td>1</td>\n",
       "      <td>168</td>\n",
       "      <td>0</td>\n",
       "      <td>1.0</td>\n",
       "      <td>2</td>\n",
       "      <td>2</td>\n",
       "      <td>3</td>\n",
       "      <td>0</td>\n",
       "    </tr>\n",
       "    <tr>\n",
       "      <th>1</th>\n",
       "      <td>53</td>\n",
       "      <td>1</td>\n",
       "      <td>0</td>\n",
       "      <td>140</td>\n",
       "      <td>203</td>\n",
       "      <td>1</td>\n",
       "      <td>0</td>\n",
       "      <td>155</td>\n",
       "      <td>1</td>\n",
       "      <td>3.1</td>\n",
       "      <td>0</td>\n",
       "      <td>0</td>\n",
       "      <td>3</td>\n",
       "      <td>0</td>\n",
       "    </tr>\n",
       "    <tr>\n",
       "      <th>2</th>\n",
       "      <td>70</td>\n",
       "      <td>1</td>\n",
       "      <td>0</td>\n",
       "      <td>145</td>\n",
       "      <td>174</td>\n",
       "      <td>0</td>\n",
       "      <td>1</td>\n",
       "      <td>125</td>\n",
       "      <td>1</td>\n",
       "      <td>2.6</td>\n",
       "      <td>0</td>\n",
       "      <td>0</td>\n",
       "      <td>3</td>\n",
       "      <td>0</td>\n",
       "    </tr>\n",
       "    <tr>\n",
       "      <th>3</th>\n",
       "      <td>61</td>\n",
       "      <td>1</td>\n",
       "      <td>0</td>\n",
       "      <td>148</td>\n",
       "      <td>203</td>\n",
       "      <td>0</td>\n",
       "      <td>1</td>\n",
       "      <td>161</td>\n",
       "      <td>0</td>\n",
       "      <td>0.0</td>\n",
       "      <td>2</td>\n",
       "      <td>1</td>\n",
       "      <td>3</td>\n",
       "      <td>0</td>\n",
       "    </tr>\n",
       "    <tr>\n",
       "      <th>4</th>\n",
       "      <td>62</td>\n",
       "      <td>0</td>\n",
       "      <td>0</td>\n",
       "      <td>138</td>\n",
       "      <td>294</td>\n",
       "      <td>1</td>\n",
       "      <td>1</td>\n",
       "      <td>106</td>\n",
       "      <td>0</td>\n",
       "      <td>1.9</td>\n",
       "      <td>1</td>\n",
       "      <td>3</td>\n",
       "      <td>2</td>\n",
       "      <td>0</td>\n",
       "    </tr>\n",
       "    <tr>\n",
       "      <th>...</th>\n",
       "      <td>...</td>\n",
       "      <td>...</td>\n",
       "      <td>...</td>\n",
       "      <td>...</td>\n",
       "      <td>...</td>\n",
       "      <td>...</td>\n",
       "      <td>...</td>\n",
       "      <td>...</td>\n",
       "      <td>...</td>\n",
       "      <td>...</td>\n",
       "      <td>...</td>\n",
       "      <td>...</td>\n",
       "      <td>...</td>\n",
       "      <td>...</td>\n",
       "    </tr>\n",
       "    <tr>\n",
       "      <th>1020</th>\n",
       "      <td>59</td>\n",
       "      <td>1</td>\n",
       "      <td>1</td>\n",
       "      <td>140</td>\n",
       "      <td>221</td>\n",
       "      <td>0</td>\n",
       "      <td>1</td>\n",
       "      <td>164</td>\n",
       "      <td>1</td>\n",
       "      <td>0.0</td>\n",
       "      <td>2</td>\n",
       "      <td>0</td>\n",
       "      <td>2</td>\n",
       "      <td>1</td>\n",
       "    </tr>\n",
       "    <tr>\n",
       "      <th>1021</th>\n",
       "      <td>60</td>\n",
       "      <td>1</td>\n",
       "      <td>0</td>\n",
       "      <td>125</td>\n",
       "      <td>258</td>\n",
       "      <td>0</td>\n",
       "      <td>0</td>\n",
       "      <td>141</td>\n",
       "      <td>1</td>\n",
       "      <td>2.8</td>\n",
       "      <td>1</td>\n",
       "      <td>1</td>\n",
       "      <td>3</td>\n",
       "      <td>0</td>\n",
       "    </tr>\n",
       "    <tr>\n",
       "      <th>1022</th>\n",
       "      <td>47</td>\n",
       "      <td>1</td>\n",
       "      <td>0</td>\n",
       "      <td>110</td>\n",
       "      <td>275</td>\n",
       "      <td>0</td>\n",
       "      <td>0</td>\n",
       "      <td>118</td>\n",
       "      <td>1</td>\n",
       "      <td>1.0</td>\n",
       "      <td>1</td>\n",
       "      <td>1</td>\n",
       "      <td>2</td>\n",
       "      <td>0</td>\n",
       "    </tr>\n",
       "    <tr>\n",
       "      <th>1023</th>\n",
       "      <td>50</td>\n",
       "      <td>0</td>\n",
       "      <td>0</td>\n",
       "      <td>110</td>\n",
       "      <td>254</td>\n",
       "      <td>0</td>\n",
       "      <td>0</td>\n",
       "      <td>159</td>\n",
       "      <td>0</td>\n",
       "      <td>0.0</td>\n",
       "      <td>2</td>\n",
       "      <td>0</td>\n",
       "      <td>2</td>\n",
       "      <td>1</td>\n",
       "    </tr>\n",
       "    <tr>\n",
       "      <th>1024</th>\n",
       "      <td>54</td>\n",
       "      <td>1</td>\n",
       "      <td>0</td>\n",
       "      <td>120</td>\n",
       "      <td>188</td>\n",
       "      <td>0</td>\n",
       "      <td>1</td>\n",
       "      <td>113</td>\n",
       "      <td>0</td>\n",
       "      <td>1.4</td>\n",
       "      <td>1</td>\n",
       "      <td>1</td>\n",
       "      <td>3</td>\n",
       "      <td>0</td>\n",
       "    </tr>\n",
       "  </tbody>\n",
       "</table>\n",
       "<p>1025 rows × 14 columns</p>\n",
       "</div>"
      ],
      "text/plain": [
       "      age  sex  cp  trestbps  chol  fbs  restecg  thalach  exang  oldpeak  \\\n",
       "0      52    1   0       125   212    0        1      168      0      1.0   \n",
       "1      53    1   0       140   203    1        0      155      1      3.1   \n",
       "2      70    1   0       145   174    0        1      125      1      2.6   \n",
       "3      61    1   0       148   203    0        1      161      0      0.0   \n",
       "4      62    0   0       138   294    1        1      106      0      1.9   \n",
       "...   ...  ...  ..       ...   ...  ...      ...      ...    ...      ...   \n",
       "1020   59    1   1       140   221    0        1      164      1      0.0   \n",
       "1021   60    1   0       125   258    0        0      141      1      2.8   \n",
       "1022   47    1   0       110   275    0        0      118      1      1.0   \n",
       "1023   50    0   0       110   254    0        0      159      0      0.0   \n",
       "1024   54    1   0       120   188    0        1      113      0      1.4   \n",
       "\n",
       "      slope  ca  thal  target  \n",
       "0         2   2     3       0  \n",
       "1         0   0     3       0  \n",
       "2         0   0     3       0  \n",
       "3         2   1     3       0  \n",
       "4         1   3     2       0  \n",
       "...     ...  ..   ...     ...  \n",
       "1020      2   0     2       1  \n",
       "1021      1   1     3       0  \n",
       "1022      1   1     2       0  \n",
       "1023      2   0     2       1  \n",
       "1024      1   1     3       0  \n",
       "\n",
       "[1025 rows x 14 columns]"
      ]
     },
     "execution_count": 2,
     "metadata": {},
     "output_type": "execute_result"
    }
   ],
   "source": [
    "# Import and Read the Heart Disease Dataset under the variable of 'full_data'\n",
    "full_data = pd.read_csv('heart.csv')\n",
    "\n",
    "full_data"
   ]
  },
  {
   "cell_type": "markdown",
   "id": "8b6c43be",
   "metadata": {},
   "source": [
    "2.0) DATA EXPLORING"
   ]
  },
  {
   "cell_type": "code",
   "execution_count": 3,
   "id": "6c0c82ef",
   "metadata": {
    "colab": {
     "base_uri": "https://localhost:8080/"
    },
    "executionInfo": {
     "elapsed": 4,
     "status": "ok",
     "timestamp": 1669827276981,
     "user": {
      "displayName": "Denny Chan",
      "userId": "02614145806304977587"
     },
     "user_tz": -480
    },
    "id": "6c0c82ef",
    "outputId": "fa1614f3-2988-4178-bab7-762ebe0b4fcd"
   },
   "outputs": [
    {
     "name": "stdout",
     "output_type": "stream",
     "text": [
      "<class 'pandas.core.frame.DataFrame'>\n",
      "RangeIndex: 1025 entries, 0 to 1024\n",
      "Data columns (total 14 columns):\n",
      " #   Column    Non-Null Count  Dtype  \n",
      "---  ------    --------------  -----  \n",
      " 0   age       1025 non-null   int64  \n",
      " 1   sex       1025 non-null   int64  \n",
      " 2   cp        1025 non-null   int64  \n",
      " 3   trestbps  1025 non-null   int64  \n",
      " 4   chol      1025 non-null   int64  \n",
      " 5   fbs       1025 non-null   int64  \n",
      " 6   restecg   1025 non-null   int64  \n",
      " 7   thalach   1025 non-null   int64  \n",
      " 8   exang     1025 non-null   int64  \n",
      " 9   oldpeak   1025 non-null   float64\n",
      " 10  slope     1025 non-null   int64  \n",
      " 11  ca        1025 non-null   int64  \n",
      " 12  thal      1025 non-null   int64  \n",
      " 13  target    1025 non-null   int64  \n",
      "dtypes: float64(1), int64(13)\n",
      "memory usage: 112.2 KB\n"
     ]
    }
   ],
   "source": [
    "# prints information about the DataFrame\n",
    "full_data.info()"
   ]
  },
  {
   "cell_type": "code",
   "execution_count": null,
   "id": "2af52b98",
   "metadata": {
    "colab": {
     "base_uri": "https://localhost:8080/"
    },
    "executionInfo": {
     "elapsed": 4,
     "status": "ok",
     "timestamp": 1669827277353,
     "user": {
      "displayName": "Denny Chan",
      "userId": "02614145806304977587"
     },
     "user_tz": -480
    },
    "id": "2af52b98",
    "outputId": "f33c23cd-7bd3-4985-fdd1-0cbb2450778e"
   },
   "outputs": [],
   "source": [
    "# Print the number of missing values\n",
    "print(full_data.isnull().sum())"
   ]
  },
  {
   "cell_type": "markdown",
   "id": "e81d974b",
   "metadata": {},
   "source": [
    "3.0) DATA SPLITTING 60:40"
   ]
  },
  {
   "cell_type": "code",
   "execution_count": null,
   "id": "54d73079",
   "metadata": {
    "colab": {
     "base_uri": "https://localhost:8080/"
    },
    "executionInfo": {
     "elapsed": 548,
     "status": "ok",
     "timestamp": 1669827281515,
     "user": {
      "displayName": "Denny Chan",
      "userId": "02614145806304977587"
     },
     "user_tz": -480
    },
    "id": "54d73079",
    "outputId": "3941d327-47d0-40a8-f91d-e60523849f3a"
   },
   "outputs": [],
   "source": [
    "# Split Data into ratio 60:40 (60% Training Data & 40% Testing Data)\n",
    "from sklearn.model_selection import train_test_split\n",
    "\n",
    "attribute_column = ['age', 'sex', 'cp', 'trestbps', 'chol', 'fbs', 'restecg', 'thalach', 'exang', 'oldpeak', 'slope', 'ca', 'thal', 'target']  # Attribute in the Dataset\n",
    "data = full_data[attribute_column]  # attribute\n",
    "\n",
    "training_data,testing_data = train_test_split(data, test_size=0.4, shuffle=False)\n",
    "\n",
    "print(training_data) # 60% Random Training Dataset\n",
    "print()\n",
    "\n",
    "print(testing_data) # 40% Random Testing Dataset\n",
    "print()\n",
    "\n",
    "#Eliminate the outcome column(target) for testing_data\n",
    "testing_data_no_output = testing_data.iloc[:,range(testing_data.shape[1]-1)]"
   ]
  },
  {
   "cell_type": "code",
   "execution_count": null,
   "id": "91c53882",
   "metadata": {
    "executionInfo": {
     "elapsed": 5,
     "status": "ok",
     "timestamp": 1669827281516,
     "user": {
      "displayName": "Denny Chan",
      "userId": "02614145806304977587"
     },
     "user_tz": -480
    },
    "id": "62056b2b"
   },
   "outputs": [],
   "source": [
    "# Store 60% Random data into heart_Training_data_Before_Normalization.csv under variable of 'train' \n",
    "training_data.to_csv('heart_Training_data_Before_Normalization.csv', index=False)\n",
    "train = pd.read_csv('heart_Training_data_Before_Normalization.csv')\n",
    "\n",
    "# Store 40% Random data without output into heart_Testing_data_Before_Normalization.csv under variable of 'test'\n",
    "testing_data_no_output.to_csv('heart_Testing_data_Before_Normalization.csv', index=False)\n",
    "test = pd.read_csv('heart_Testing_data_Before_Normalization.csv')"
   ]
  },
  {
   "cell_type": "markdown",
   "id": "2876797d",
   "metadata": {},
   "source": [
    "4.0) 60% TESTING DATA NORMALIZATION"
   ]
  },
  {
   "cell_type": "code",
   "execution_count": null,
   "id": "766a45bf",
   "metadata": {
    "executionInfo": {
     "elapsed": 3,
     "status": "ok",
     "timestamp": 1669827286646,
     "user": {
      "displayName": "Denny Chan",
      "userId": "02614145806304977587"
     },
     "user_tz": -480
    },
    "id": "766a45bf"
   },
   "outputs": [],
   "source": [
    "# Import and Read the 60% random train data before Normalization by using the variable 'train_normalization'\n",
    "train_normalization = pd.read_csv('heart_Training_data_Before_Normalization.csv')"
   ]
  },
  {
   "cell_type": "code",
   "execution_count": null,
   "id": "0beb1974",
   "metadata": {
    "colab": {
     "base_uri": "https://localhost:8080/",
     "height": 424
    },
    "executionInfo": {
     "elapsed": 6,
     "status": "ok",
     "timestamp": 1669827288978,
     "user": {
      "displayName": "Denny Chan",
      "userId": "02614145806304977587"
     },
     "user_tz": -480
    },
    "id": "0beb1974",
    "outputId": "b367e5f1-bd88-4094-9da2-9f86f3dbf8a5"
   },
   "outputs": [],
   "source": [
    "train_normalization"
   ]
  },
  {
   "cell_type": "code",
   "execution_count": null,
   "id": "a3da80ab",
   "metadata": {
    "colab": {
     "base_uri": "https://localhost:8080/"
    },
    "executionInfo": {
     "elapsed": 4,
     "status": "ok",
     "timestamp": 1669827290060,
     "user": {
      "displayName": "Denny Chan",
      "userId": "02614145806304977587"
     },
     "user_tz": -480
    },
    "id": "a3da80ab",
    "outputId": "79694a0c-f148-485a-b683-42243d0ed27b"
   },
   "outputs": [],
   "source": [
    "# prints information about the DataFrame\n",
    "train_normalization.info()"
   ]
  },
  {
   "cell_type": "code",
   "execution_count": null,
   "id": "1f4a470d",
   "metadata": {
    "colab": {
     "base_uri": "https://localhost:8080/"
    },
    "executionInfo": {
     "elapsed": 3,
     "status": "ok",
     "timestamp": 1669827290416,
     "user": {
      "displayName": "Denny Chan",
      "userId": "02614145806304977587"
     },
     "user_tz": -480
    },
    "id": "1f4a470d",
    "outputId": "e2c69de8-e89f-4e03-b861-fead2a154fe1"
   },
   "outputs": [],
   "source": [
    "# Print the number of missing values\n",
    "print(train_normalization.isnull().sum())"
   ]
  },
  {
   "cell_type": "code",
   "execution_count": null,
   "id": "00ea4f85",
   "metadata": {
    "colab": {
     "base_uri": "https://localhost:8080/",
     "height": 424
    },
    "executionInfo": {
     "elapsed": 10,
     "status": "ok",
     "timestamp": 1669827293146,
     "user": {
      "displayName": "Denny Chan",
      "userId": "02614145806304977587"
     },
     "user_tz": -480
    },
    "id": "00ea4f85",
    "outputId": "00a20c18-4c4d-4974-9616-0da7e45ac3a2"
   },
   "outputs": [],
   "source": [
    "# Normalization Process for 60% random train data\n",
    "from sklearn.preprocessing import Normalizer\n",
    "\n",
    "normal = Normalizer()\n",
    "\n",
    "train_normalization.iloc[:,0:-1] = normal.fit_transform(train_normalization.iloc[:,0:-1])\n",
    "\n",
    "train_normalization"
   ]
  },
  {
   "cell_type": "code",
   "execution_count": null,
   "id": "b59642b3",
   "metadata": {
    "executionInfo": {
     "elapsed": 2,
     "status": "ok",
     "timestamp": 1669827295927,
     "user": {
      "displayName": "Denny Chan",
      "userId": "02614145806304977587"
     },
     "user_tz": -480
    },
    "id": "b59642b3"
   },
   "outputs": [],
   "source": [
    "# Store train 60% Random Normalized data into 'heart_Training_data_After_Normalization.csv'\n",
    "train_normalization.to_csv('heart_Training_data_After_Normalization.csv', index=False)"
   ]
  },
  {
   "cell_type": "markdown",
   "id": "1860ae6a",
   "metadata": {},
   "source": [
    "5.0) 40% TESTING DATA NORMALIZATION"
   ]
  },
  {
   "cell_type": "code",
   "execution_count": null,
   "id": "e20be54b",
   "metadata": {
    "executionInfo": {
     "elapsed": 2,
     "status": "ok",
     "timestamp": 1669827297343,
     "user": {
      "displayName": "Denny Chan",
      "userId": "02614145806304977587"
     },
     "user_tz": -480
    },
    "id": "e20be54b"
   },
   "outputs": [],
   "source": [
    "# Read the 40% random test data before Normalization by using the variable 'test_normalization'\n",
    "test_normalization = testing_data"
   ]
  },
  {
   "cell_type": "code",
   "execution_count": null,
   "id": "5713d190",
   "metadata": {
    "colab": {
     "base_uri": "https://localhost:8080/",
     "height": 424
    },
    "executionInfo": {
     "elapsed": 6,
     "status": "ok",
     "timestamp": 1669827298570,
     "user": {
      "displayName": "Denny Chan",
      "userId": "02614145806304977587"
     },
     "user_tz": -480
    },
    "id": "5713d190",
    "outputId": "82d2bad9-cb39-48bc-c597-2d34c9ebc92f"
   },
   "outputs": [],
   "source": [
    "test_normalization"
   ]
  },
  {
   "cell_type": "code",
   "execution_count": null,
   "id": "abf7729c",
   "metadata": {
    "colab": {
     "base_uri": "https://localhost:8080/"
    },
    "executionInfo": {
     "elapsed": 5,
     "status": "ok",
     "timestamp": 1669827299232,
     "user": {
      "displayName": "Denny Chan",
      "userId": "02614145806304977587"
     },
     "user_tz": -480
    },
    "id": "abf7729c",
    "outputId": "589daaa1-5596-4bed-dcb9-dc904b4f266e"
   },
   "outputs": [],
   "source": [
    "# prints information about the DataFrame\n",
    "test_normalization.info()"
   ]
  },
  {
   "cell_type": "code",
   "execution_count": null,
   "id": "5574156b",
   "metadata": {
    "colab": {
     "base_uri": "https://localhost:8080/"
    },
    "executionInfo": {
     "elapsed": 4,
     "status": "ok",
     "timestamp": 1669827302424,
     "user": {
      "displayName": "Denny Chan",
      "userId": "02614145806304977587"
     },
     "user_tz": -480
    },
    "id": "5574156b",
    "outputId": "a1011c27-fa36-4881-fca9-720667282851"
   },
   "outputs": [],
   "source": [
    "# Print the number of missing values\n",
    "print(test_normalization.isnull().sum())"
   ]
  },
  {
   "cell_type": "code",
   "execution_count": null,
   "id": "c1ac6da5",
   "metadata": {
    "colab": {
     "base_uri": "https://localhost:8080/",
     "height": 424
    },
    "executionInfo": {
     "elapsed": 5,
     "status": "ok",
     "timestamp": 1669827303030,
     "user": {
      "displayName": "Denny Chan",
      "userId": "02614145806304977587"
     },
     "user_tz": -480
    },
    "id": "c1ac6da5",
    "outputId": "83636cd3-d8fd-4e2f-8a47-0a0c06067911"
   },
   "outputs": [],
   "source": [
    "# Normalization Process for 40% random test data\n",
    "from sklearn.preprocessing import Normalizer\n",
    "\n",
    "norm = Normalizer()\n",
    "\n",
    "test_normalization.iloc[:,0:-1] = norm.fit_transform(test_normalization.iloc[:,0:-1])\n",
    "\n",
    "test_normalization"
   ]
  },
  {
   "cell_type": "code",
   "execution_count": null,
   "id": "bf4e2ec9",
   "metadata": {
    "executionInfo": {
     "elapsed": 3,
     "status": "ok",
     "timestamp": 1669827305945,
     "user": {
      "displayName": "Denny Chan",
      "userId": "02614145806304977587"
     },
     "user_tz": -480
    },
    "id": "bf4e2ec9"
   },
   "outputs": [],
   "source": [
    "# Store test 40% Random Normalized data into 'heart_Testing_data_After_Normalization.csv'\n",
    "test_normalization.to_csv('heart_Testing_data_After_Normalization.csv', index=False)"
   ]
  },
  {
   "cell_type": "markdown",
   "id": "843223a9",
   "metadata": {},
   "source": [
    "6.0) CASE BASE REASONING (CBR)"
   ]
  },
  {
   "cell_type": "code",
   "execution_count": null,
   "id": "e7261fa6",
   "metadata": {
    "executionInfo": {
     "elapsed": 2,
     "status": "ok",
     "timestamp": 1669827306492,
     "user": {
      "displayName": "Denny Chan",
      "userId": "02614145806304977587"
     },
     "user_tz": -480
    },
    "id": "e7261fa6"
   },
   "outputs": [],
   "source": [
    "# Import and Read the 60% Random Normalized Train data by using variable 'train_normalize'\n",
    "train_normalize = pd.read_csv('heart_Training_data_After_Normalization.csv')\n",
    "\n",
    "# Import and Read the 40% Random Normalized Test data by using variable 'test_normalize'\n",
    "test_normalize = pd.read_csv('heart_Testing_data_After_Normalization.csv')\n",
    "\n",
    "# Import and Read the 70% Random Train data before Normalized  by using variable 'train_ori'\n",
    "train_ori = pd.read_csv('heart_Training_data_Before_Normalization.csv')\n",
    "\n",
    "# Import and Read the 30% Random Test data before Normalized by using variable 'test_ori'\n",
    "test_ori = pd.read_csv('heart_Testing_data_Before_Normalization.csv')"
   ]
  },
  {
   "cell_type": "code",
   "execution_count": null,
   "id": "03ecaba5",
   "metadata": {
    "colab": {
     "base_uri": "https://localhost:8080/",
     "height": 424
    },
    "executionInfo": {
     "elapsed": 1044,
     "status": "ok",
     "timestamp": 1669827308949,
     "user": {
      "displayName": "Denny Chan",
      "userId": "02614145806304977587"
     },
     "user_tz": -480
    },
    "id": "03ecaba5",
    "outputId": "a5bf8bdc-e655-4bb4-9892-fccfcb1f4448"
   },
   "outputs": [],
   "source": [
    "# View Data\n",
    "train_normalize"
   ]
  },
  {
   "cell_type": "code",
   "execution_count": null,
   "id": "bc89072e",
   "metadata": {
    "colab": {
     "base_uri": "https://localhost:8080/",
     "height": 424
    },
    "executionInfo": {
     "elapsed": 383,
     "status": "ok",
     "timestamp": 1669827314941,
     "user": {
      "displayName": "Denny Chan",
      "userId": "02614145806304977587"
     },
     "user_tz": -480
    },
    "id": "bc89072e",
    "outputId": "7f4040bd-416f-456b-b32f-dcfa247ffc88"
   },
   "outputs": [],
   "source": [
    "# View Data\n",
    "test_normalize"
   ]
  },
  {
   "cell_type": "code",
   "execution_count": null,
   "id": "90a2590f",
   "metadata": {
    "colab": {
     "base_uri": "https://localhost:8080/",
     "height": 424
    },
    "executionInfo": {
     "elapsed": 9,
     "status": "ok",
     "timestamp": 1669827318966,
     "user": {
      "displayName": "Denny Chan",
      "userId": "02614145806304977587"
     },
     "user_tz": -480
    },
    "id": "90a2590f",
    "outputId": "b5bba6d6-f7d4-427f-f84b-2c99cdafedec"
   },
   "outputs": [],
   "source": [
    "# View Data\n",
    "train_ori"
   ]
  },
  {
   "cell_type": "code",
   "execution_count": null,
   "id": "3ccf7cce",
   "metadata": {
    "colab": {
     "base_uri": "https://localhost:8080/",
     "height": 424
    },
    "executionInfo": {
     "elapsed": 8,
     "status": "ok",
     "timestamp": 1669827318967,
     "user": {
      "displayName": "Denny Chan",
      "userId": "02614145806304977587"
     },
     "user_tz": -480
    },
    "id": "3ccf7cce",
    "outputId": "4d2e0a7a-d47e-4854-8fc9-e636e9c99188"
   },
   "outputs": [],
   "source": [
    "# View Data\n",
    "test_ori"
   ]
  },
  {
   "cell_type": "code",
   "execution_count": null,
   "id": "c095c22a",
   "metadata": {
    "colab": {
     "base_uri": "https://localhost:8080/",
     "height": 424
    },
    "executionInfo": {
     "elapsed": 5,
     "status": "ok",
     "timestamp": 1669827319548,
     "user": {
      "displayName": "Denny Chan",
      "userId": "02614145806304977587"
     },
     "user_tz": -480
    },
    "id": "c095c22a",
    "outputId": "5d5b70e1-baab-478e-fe60-e7909c9a1a86"
   },
   "outputs": [],
   "source": [
    "# Eliminate the Output column of the 'train_normalize' variable\n",
    "case_base = train_normalize.iloc[:,range(train_normalize.shape[1]-1)]\n",
    "case_base"
   ]
  },
  {
   "cell_type": "code",
   "execution_count": null,
   "id": "701f3a08",
   "metadata": {
    "colab": {
     "base_uri": "https://localhost:8080/"
    },
    "executionInfo": {
     "elapsed": 3,
     "status": "ok",
     "timestamp": 1669827325362,
     "user": {
      "displayName": "Denny Chan",
      "userId": "02614145806304977587"
     },
     "user_tz": -480
    },
    "id": "701f3a08",
    "outputId": "cf504755-23fe-4542-8b2b-3571d48370a5"
   },
   "outputs": [],
   "source": [
    "# Retrieve Cycle\n",
    "max_value = case_base.max()\n",
    "min_value = case_base.min()\n",
    "\n",
    "# Print Max value\n",
    "max_value"
   ]
  },
  {
   "cell_type": "code",
   "execution_count": null,
   "id": "3ea9b4b0",
   "metadata": {
    "colab": {
     "base_uri": "https://localhost:8080/"
    },
    "executionInfo": {
     "elapsed": 5,
     "status": "ok",
     "timestamp": 1669827327876,
     "user": {
      "displayName": "Denny Chan",
      "userId": "02614145806304977587"
     },
     "user_tz": -480
    },
    "id": "3ea9b4b0",
    "outputId": "17d013f5-1270-4ab0-9e30-a3b5a6df1f85"
   },
   "outputs": [],
   "source": [
    "# Print Min value\n",
    "min_value"
   ]
  },
  {
   "cell_type": "code",
   "execution_count": null,
   "id": "37669e93",
   "metadata": {
    "colab": {
     "base_uri": "https://localhost:8080/"
    },
    "executionInfo": {
     "elapsed": 4,
     "status": "ok",
     "timestamp": 1669827330676,
     "user": {
      "displayName": "Denny Chan",
      "userId": "02614145806304977587"
     },
     "user_tz": -480
    },
    "id": "37669e93",
    "outputId": "06be894f-b8c4-453a-e103-262ebdd9f522"
   },
   "outputs": [],
   "source": [
    "# Calculate Range Value\n",
    "range_value = max_value-min_value\n",
    "range_value"
   ]
  },
  {
   "cell_type": "code",
   "execution_count": null,
   "id": "3808732e",
   "metadata": {},
   "outputs": [],
   "source": [
    "local_similarity = np.zeros(case_base.shape)\n",
    "local_similarity"
   ]
  },
  {
   "cell_type": "code",
   "execution_count": null,
   "id": "96673d96",
   "metadata": {
    "colab": {
     "base_uri": "https://localhost:8080/"
    },
    "executionInfo": {
     "elapsed": 3,
     "status": "ok",
     "timestamp": 1669827334660,
     "user": {
      "displayName": "Denny Chan",
      "userId": "02614145806304977587"
     },
     "user_tz": -480
    },
    "id": "96673d96",
    "outputId": "3104a917-bc2f-4c50-e67e-35f738b28133"
   },
   "outputs": [],
   "source": [
    "# Declaring weightage to all the attributes\n",
    "weightage=np.ones(test.shape[1])\n",
    "weightage"
   ]
  },
  {
   "cell_type": "code",
   "execution_count": null,
   "id": "581626fc",
   "metadata": {
    "colab": {
     "base_uri": "https://localhost:8080/"
    },
    "executionInfo": {
     "elapsed": 5,
     "status": "ok",
     "timestamp": 1669827337293,
     "user": {
      "displayName": "Denny Chan",
      "userId": "02614145806304977587"
     },
     "user_tz": -480
    },
    "id": "581626fc",
    "outputId": "e1a35f3c-9b90-462d-a2cb-3cb0f058bbd1"
   },
   "outputs": [],
   "source": [
    "len(weightage)\n",
    "total_weightage=0\n",
    "# Calculate total weightage\n",
    "for i in range(len(weightage)):\n",
    "    total_weightage+=weightage[i]\n",
    "\n",
    "total_weightage"
   ]
  },
  {
   "cell_type": "code",
   "execution_count": null,
   "id": "80983a39",
   "metadata": {},
   "outputs": [],
   "source": [
    "global_similarity=np.zeros(case_base.shape[0])\n",
    "global_similarity"
   ]
  },
  {
   "cell_type": "code",
   "execution_count": null,
   "id": "24982106",
   "metadata": {
    "colab": {
     "base_uri": "https://localhost:8080/"
    },
    "executionInfo": {
     "elapsed": 844382,
     "status": "ok",
     "timestamp": 1669830270615,
     "user": {
      "displayName": "Denny Chan",
      "userId": "02614145806304977587"
     },
     "user_tz": -480
    },
    "id": "24982106",
    "outputId": "5eb419b2-df77-45a4-9a60-7e0849b4f12c"
   },
   "outputs": [],
   "source": [
    "# Retrieve Cycle  -- Find similiar problems\n",
    "\n",
    "for k in range(test_normalize.shape[0]):\n",
    "    print('=============================================================================')\n",
    "    print(f'\\t\\t\\t TEST DATA Case: {k+1}')\n",
    "    print('=============================================================================')\n",
    "    for i in range(case_base.shape[0]):\n",
    "        total_similarity = 0\n",
    "        print('=============================================================================')\n",
    "        print(f'\\t\\t LOCAL SIMILARITY for TEST_DATA Case: {k+1}')\n",
    "        print('=============================================================================')\n",
    "        for j in range(case_base.shape[1]):\n",
    "            # Calculate Local Similarity\n",
    "            local_similarity[i,j]=1-(abs(test_normalize.iloc[k,j]-case_base.iloc[i,j])/range_value[j])\n",
    "\n",
    "            # Calculate Global Similarity\n",
    "            total_similarity += (local_similarity[i,j] * weightage[j])\n",
    "            global_similarity[i] = (1/total_weightage) * total_similarity\n",
    "            print(f'Local Similarity TRAIN DATA Case {i+1}, Attribute: {train_normalize.columns[j]} \\t = {local_similarity[i,j]}')\n",
    "\n",
    "        print('-----------------------------------------------------------------------------')\n",
    "        print(f'Global Similarity TRAIN DATA Case {i+1} = {global_similarity[i]}')\n",
    "        print('-----------------------------------------------------------------------------')\n",
    "    \n",
    "    # Identify the Highest Value of the Global Similarity\n",
    "    highest_similarity = global_similarity\n",
    "    highest_index = np.argmax(highest_similarity)\n",
    "    print('=============================================================================')\n",
    "    print(f'Highest Similarity for TEST DATA Case {k+1} = {highest_similarity.max()}')\n",
    "    print('=============================================================================')\n",
    "    print('\\n')\n",
    "    \n",
    "    # Reuse Cycle -- Reuse a previous solution in a new situation\n",
    "    # Propose solution for new cases from the solutions in the retrieved cases\n",
    "    test_data = np.append(test_ori.iloc[k,:],train_normalize.iloc[highest_index,-1])\n",
    "    \n",
    "    # Revise Cycle \n",
    "    # There is no Revise Cycle implemented because the 'target' output column only have 2 values(either 0 or 1)\n",
    "    \n",
    "    # Retain Cycle -- Integrated into case-based system\n",
    "    # Store the result for the new solution to the train_ori\n",
    "    test_data = pd.Series(test_data,index = train_ori.columns)\n",
    "    \n",
    "    \n",
    "    # Update / Merge the new solution with the previous dataset in 'heart_Training_data_Before_Normalization.csv'\n",
    "    train_ori = train_ori.append(test_data,ignore_index=True)\n",
    "    train_ori.to_csv('heart_Training_data_Before_Normalization.csv', index=False)"
   ]
  },
  {
   "cell_type": "markdown",
   "id": "c83e1b07",
   "metadata": {},
   "source": [
    "7.0) ACCURACY"
   ]
  },
  {
   "cell_type": "code",
   "execution_count": null,
   "id": "99b58009",
   "metadata": {
    "executionInfo": {
     "elapsed": 9,
     "status": "ok",
     "timestamp": 1669830270616,
     "user": {
      "displayName": "Denny Chan",
      "userId": "02614145806304977587"
     },
     "user_tz": -480
    },
    "id": "99b58009"
   },
   "outputs": [],
   "source": [
    "df1 = pd.read_csv('heart.csv')\n",
    "df2 = pd.read_csv('heart_Training_data_Before_Normalization.csv')"
   ]
  },
  {
   "cell_type": "code",
   "execution_count": null,
   "id": "cf6b4c7c",
   "metadata": {
    "colab": {
     "base_uri": "https://localhost:8080/"
    },
    "executionInfo": {
     "elapsed": 10,
     "status": "ok",
     "timestamp": 1669830270617,
     "user": {
      "displayName": "Denny Chan",
      "userId": "02614145806304977587"
     },
     "user_tz": -480
    },
    "id": "cf6b4c7c",
    "outputId": "3062bf63-dd15-4eb3-e535-233fc4ba06a2"
   },
   "outputs": [],
   "source": [
    "result = df1.apply(tuple, 1).isin(df2.apply(tuple, 1))\n",
    "result = pd.DataFrame(result, columns=['Results'])\n",
    "\n",
    "result"
   ]
  },
  {
   "cell_type": "code",
   "execution_count": null,
   "id": "25491828",
   "metadata": {
    "colab": {
     "base_uri": "https://localhost:8080/",
     "height": 424
    },
    "executionInfo": {
     "elapsed": 6,
     "status": "ok",
     "timestamp": 1669830270618,
     "user": {
      "displayName": "Denny Chan",
      "userId": "02614145806304977587"
     },
     "user_tz": -480
    },
    "id": "25491828",
    "outputId": "b868ac7b-48d2-4d9a-bf96-ca1d79bbe66c"
   },
   "outputs": [],
   "source": [
    "result"
   ]
  },
  {
   "cell_type": "code",
   "execution_count": null,
   "id": "534ac747",
   "metadata": {},
   "outputs": [],
   "source": [
    "q1 = result['Results'].values.sum()  # True\n",
    "q2 = (~result['Results']).values.sum() # False\n",
    "q3 = len(result)"
   ]
  },
  {
   "cell_type": "code",
   "execution_count": null,
   "id": "76c621c0",
   "metadata": {},
   "outputs": [],
   "source": [
    "percentage = (q1 / q3) * 100\n",
    "\n",
    "print(\"Accuracy: \" ,percentage)"
   ]
  },
  {
   "cell_type": "markdown",
   "id": "4a92483b",
   "metadata": {},
   "source": [
    "8.0) VISUALIZATION"
   ]
  },
  {
   "cell_type": "code",
   "execution_count": null,
   "id": "ca3a26d0",
   "metadata": {},
   "outputs": [],
   "source": [
    "from matplotlib import pyplot as plt\n",
    "\n",
    "plt.figure(figsize=(17,6))\n",
    "sns.heatmap(df2.corr(),annot=True)\n",
    "plt.title(\"Correlation between features\",fontsize=20,fontweight=\"bold\")\n",
    "plt.show"
   ]
  },
  {
   "cell_type": "code",
   "execution_count": null,
   "id": "73c7ce31",
   "metadata": {
    "colab": {
     "base_uri": "https://localhost:8080/",
     "height": 279
    },
    "executionInfo": {
     "elapsed": 708,
     "status": "ok",
     "timestamp": 1669830271321,
     "user": {
      "displayName": "Denny Chan",
      "userId": "02614145806304977587"
     },
     "user_tz": -480
    },
    "id": "73c7ce31",
    "outputId": "161636ee-e880-42da-b8c6-acc63ac5c7a8"
   },
   "outputs": [],
   "source": [
    "bar = sns.countplot(x='Results', data = result)\n",
    "bar.set(xlabel='Results', ylabel='Numbers')\n",
    "plt.show()"
   ]
  },
  {
   "cell_type": "code",
   "execution_count": null,
   "id": "94cc0773",
   "metadata": {},
   "outputs": [],
   "source": [
    "f = sns.countplot(x='target', data=df2, hue='sex')\n",
    "plt.legend(['Female', 'Male'])\n",
    "f.set_title(\"Heart disease presence by gender\")\n",
    "f.set_xticklabels(['No Heart disease', 'Heart Disease'])\n",
    "plt.xlabel(\"\");"
   ]
  },
  {
   "cell_type": "code",
   "execution_count": null,
   "id": "a2d04d6a",
   "metadata": {},
   "outputs": [],
   "source": [
    "plt.scatter(x=df2.age[df2.target==1], y=df2.thalach[(df2.target==1)], c=\"red\", s=60)\n",
    "plt.scatter(x=df2.age[df2.target==0], y=df2.thalach[(df2.target==0)], s=60)\n",
    "plt.legend([\"Disease\", \"No Disease\"])\n",
    "plt.xlabel(\"Age\")\n",
    "plt.ylabel(\"Maximum Heart Rate\");"
   ]
  },
  {
   "cell_type": "code",
   "execution_count": null,
   "id": "de1d6ae3",
   "metadata": {},
   "outputs": [],
   "source": [
    "f = sns.countplot(x='cp', data=df2, hue='target')\n",
    "f.set_xticklabels(['Typical Angina', 'Atypical Angina', 'Non-anginal Pain', 'Asymptomatic']);\n",
    "f.set_title('Disease presence by chest pain type')\n",
    "plt.ylabel('Chest Pain Type')\n",
    "plt.xlabel('')\n",
    "plt.legend(['No Disease', 'Disease']);"
   ]
  }
 ],
 "metadata": {
  "colab": {
   "provenance": []
  },
  "kernelspec": {
   "display_name": "Python 3 (ipykernel)",
   "language": "python",
   "name": "python3"
  },
  "language_info": {
   "codemirror_mode": {
    "name": "ipython",
    "version": 3
   },
   "file_extension": ".py",
   "mimetype": "text/x-python",
   "name": "python",
   "nbconvert_exporter": "python",
   "pygments_lexer": "ipython3",
   "version": "3.9.12"
  },
  "vscode": {
   "interpreter": {
    "hash": "06b4683f7eba6d3d455b5f6c0aa2eb5b722955848c46e6825263c0dc539a14a7"
   }
  }
 },
 "nbformat": 4,
 "nbformat_minor": 5
}
